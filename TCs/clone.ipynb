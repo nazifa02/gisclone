{
 "cells": [
  {
   "cell_type": "markdown",
   "metadata": {},
   "source": [
    "Import necessary libraries"
   ]
  },
  {
   "cell_type": "code",
   "execution_count": 17,
   "metadata": {},
   "outputs": [
    {
     "name": "stdout",
     "output_type": "stream",
     "text": [
      "Requirement already satisfied: pandas in c:\\users\\tasne\\miniconda3\\lib\\site-packages (2.2.0)\n",
      "Requirement already satisfied: numpy<2,>=1.23.2 in c:\\users\\tasne\\miniconda3\\lib\\site-packages (from pandas) (1.26.4)\n",
      "Requirement already satisfied: python-dateutil>=2.8.2 in c:\\users\\tasne\\miniconda3\\lib\\site-packages (from pandas) (2.8.2)\n",
      "Requirement already satisfied: pytz>=2020.1 in c:\\users\\tasne\\miniconda3\\lib\\site-packages (from pandas) (2024.1)\n",
      "Requirement already satisfied: tzdata>=2022.7 in c:\\users\\tasne\\miniconda3\\lib\\site-packages (from pandas) (2024.1)\n",
      "Requirement already satisfied: six>=1.5 in c:\\users\\tasne\\miniconda3\\lib\\site-packages (from python-dateutil>=2.8.2->pandas) (1.16.0)\n",
      "Collecting matplotlib\n",
      "  Downloading matplotlib-3.8.3-cp311-cp311-win_amd64.whl.metadata (5.9 kB)\n",
      "Collecting contourpy>=1.0.1 (from matplotlib)\n",
      "  Downloading contourpy-1.2.0-cp311-cp311-win_amd64.whl.metadata (5.8 kB)\n",
      "Collecting cycler>=0.10 (from matplotlib)\n",
      "  Downloading cycler-0.12.1-py3-none-any.whl.metadata (3.8 kB)\n",
      "Collecting fonttools>=4.22.0 (from matplotlib)\n",
      "  Downloading fonttools-4.48.1-cp311-cp311-win_amd64.whl.metadata (162 kB)\n",
      "     ---------------------------------------- 0.0/162.2 kB ? eta -:--:--\n",
      "     ------- ----------------------------- 30.7/162.2 kB 660.6 kB/s eta 0:00:01\n",
      "     --------------------------------- ---- 143.4/162.2 kB 1.7 MB/s eta 0:00:01\n",
      "     -------------------------------------- 162.2/162.2 kB 1.6 MB/s eta 0:00:00\n",
      "Collecting kiwisolver>=1.3.1 (from matplotlib)\n",
      "  Downloading kiwisolver-1.4.5-cp311-cp311-win_amd64.whl.metadata (6.5 kB)\n",
      "Requirement already satisfied: numpy<2,>=1.21 in c:\\users\\tasne\\miniconda3\\lib\\site-packages (from matplotlib) (1.26.4)\n",
      "Requirement already satisfied: packaging>=20.0 in c:\\users\\tasne\\miniconda3\\lib\\site-packages (from matplotlib) (23.1)\n",
      "Collecting pillow>=8 (from matplotlib)\n",
      "  Downloading pillow-10.2.0-cp311-cp311-win_amd64.whl.metadata (9.9 kB)\n",
      "Collecting pyparsing>=2.3.1 (from matplotlib)\n",
      "  Downloading pyparsing-3.1.1-py3-none-any.whl.metadata (5.1 kB)\n",
      "Requirement already satisfied: python-dateutil>=2.7 in c:\\users\\tasne\\miniconda3\\lib\\site-packages (from matplotlib) (2.8.2)\n",
      "Requirement already satisfied: six>=1.5 in c:\\users\\tasne\\miniconda3\\lib\\site-packages (from python-dateutil>=2.7->matplotlib) (1.16.0)\n",
      "Downloading matplotlib-3.8.3-cp311-cp311-win_amd64.whl (7.6 MB)\n",
      "   ---------------------------------------- 0.0/7.6 MB ? eta -:--:--\n",
      "   - -------------------------------------- 0.3/7.6 MB 9.6 MB/s eta 0:00:01\n",
      "   --- ------------------------------------ 0.7/7.6 MB 7.7 MB/s eta 0:00:01\n",
      "   ------ --------------------------------- 1.2/7.6 MB 9.6 MB/s eta 0:00:01\n",
      "   --------- ------------------------------ 1.7/7.6 MB 10.0 MB/s eta 0:00:01\n",
      "   ------------ --------------------------- 2.4/7.6 MB 10.8 MB/s eta 0:00:01\n",
      "   -------------- ------------------------- 2.8/7.6 MB 11.1 MB/s eta 0:00:01\n",
      "   ------------------ --------------------- 3.5/7.6 MB 11.1 MB/s eta 0:00:01\n",
      "   --------------------- ------------------ 4.2/7.6 MB 12.1 MB/s eta 0:00:01\n",
      "   ------------------------ --------------- 4.8/7.6 MB 11.7 MB/s eta 0:00:01\n",
      "   ---------------------------- ----------- 5.4/7.6 MB 12.3 MB/s eta 0:00:01\n",
      "   -------------------------------- ------- 6.2/7.6 MB 12.3 MB/s eta 0:00:01\n",
      "   ------------------------------------ --- 6.9/7.6 MB 12.7 MB/s eta 0:00:01\n",
      "   ---------------------------------------  7.6/7.6 MB 13.2 MB/s eta 0:00:01\n",
      "   ---------------------------------------- 7.6/7.6 MB 12.5 MB/s eta 0:00:00\n",
      "Downloading contourpy-1.2.0-cp311-cp311-win_amd64.whl (187 kB)\n",
      "   ---------------------------------------- 0.0/187.6 kB ? eta -:--:--\n",
      "   --------------------------------------- 187.6/187.6 kB 11.1 MB/s eta 0:00:00\n",
      "Downloading cycler-0.12.1-py3-none-any.whl (8.3 kB)\n",
      "Downloading fonttools-4.48.1-cp311-cp311-win_amd64.whl (2.2 MB)\n",
      "   ---------------------------------------- 0.0/2.2 MB ? eta -:--:--\n",
      "   ------------- -------------------------- 0.7/2.2 MB 23.1 MB/s eta 0:00:01\n",
      "   ------------------------ --------------- 1.3/2.2 MB 21.1 MB/s eta 0:00:01\n",
      "   ------------------------ --------------- 1.3/2.2 MB 21.1 MB/s eta 0:00:01\n",
      "   ------------------------ --------------- 1.3/2.2 MB 21.1 MB/s eta 0:00:01\n",
      "   ---------------------------------- ----- 1.9/2.2 MB 8.6 MB/s eta 0:00:01\n",
      "   ------------------------------------- -- 2.0/2.2 MB 9.2 MB/s eta 0:00:01\n",
      "   ---------------------------------------- 2.2/2.2 MB 7.3 MB/s eta 0:00:00\n",
      "Downloading kiwisolver-1.4.5-cp311-cp311-win_amd64.whl (56 kB)\n",
      "   ---------------------------------------- 0.0/56.1 kB ? eta -:--:--\n",
      "   ---------------------------------------- 56.1/56.1 kB 3.1 MB/s eta 0:00:00\n",
      "Downloading pillow-10.2.0-cp311-cp311-win_amd64.whl (2.6 MB)\n",
      "   ---------------------------------------- 0.0/2.6 MB ? eta -:--:--\n",
      "   ----- ---------------------------------- 0.3/2.6 MB 10.2 MB/s eta 0:00:01\n",
      "   --------------- ------------------------ 1.0/2.6 MB 12.9 MB/s eta 0:00:01\n",
      "   ---------------------- ----------------- 1.5/2.6 MB 13.5 MB/s eta 0:00:01\n",
      "   ------------------------------- -------- 2.0/2.6 MB 13.0 MB/s eta 0:00:01\n",
      "   ------------------------------------- -- 2.5/2.6 MB 12.2 MB/s eta 0:00:01\n",
      "   ---------------------------------------- 2.6/2.6 MB 11.2 MB/s eta 0:00:00\n",
      "Downloading pyparsing-3.1.1-py3-none-any.whl (103 kB)\n",
      "   ---------------------------------------- 0.0/103.1 kB ? eta -:--:--\n",
      "   ---------------------------------------- 103.1/103.1 kB 5.8 MB/s eta 0:00:00\n",
      "Installing collected packages: pyparsing, pillow, kiwisolver, fonttools, cycler, contourpy, matplotlib\n",
      "Successfully installed contourpy-1.2.0 cycler-0.12.1 fonttools-4.48.1 kiwisolver-1.4.5 matplotlib-3.8.3 pillow-10.2.0 pyparsing-3.1.1\n"
     ]
    }
   ],
   "source": [
    "!pip install pandas\n",
    "!pip install matplotlib"
   ]
  },
  {
   "cell_type": "markdown",
   "metadata": {},
   "source": [
    "Import Libraries"
   ]
  },
  {
   "cell_type": "code",
   "execution_count": 19,
   "metadata": {},
   "outputs": [],
   "source": [
    "import pandas as pd\n",
    "import matplotlib.pyplot as plt"
   ]
  },
  {
   "cell_type": "markdown",
   "metadata": {},
   "source": [
    "Load rainfall data"
   ]
  },
  {
   "cell_type": "code",
   "execution_count": 20,
   "metadata": {},
   "outputs": [],
   "source": [
    "df = pd.read_csv(\"C:\\\\Users\\\\tasne\\\\Downloads\\\\gisclone\\\\TCs\\\\data_monthly_rainfall.csv\")"
   ]
  },
  {
   "cell_type": "markdown",
   "metadata": {},
   "source": [
    "Mask year from 1982 to 2016"
   ]
  },
  {
   "cell_type": "code",
   "execution_count": 21,
   "metadata": {},
   "outputs": [],
   "source": [
    "\n",
    "mask = (df['Year'] >= 1982) & (df['Year'] <= 2016)\n",
    "filtered_df = df[mask]"
   ]
  },
  {
   "cell_type": "markdown",
   "metadata": {},
   "source": [
    "See the table "
   ]
  },
  {
   "cell_type": "code",
   "execution_count": 22,
   "metadata": {},
   "outputs": [
    {
     "data": {
      "text/html": [
       "<div>\n",
       "<style scoped>\n",
       "    .dataframe tbody tr th:only-of-type {\n",
       "        vertical-align: middle;\n",
       "    }\n",
       "\n",
       "    .dataframe tbody tr th {\n",
       "        vertical-align: top;\n",
       "    }\n",
       "\n",
       "    .dataframe thead th {\n",
       "        text-align: right;\n",
       "    }\n",
       "</style>\n",
       "<table border=\"1\" class=\"dataframe\">\n",
       "  <thead>\n",
       "    <tr style=\"text-align: right;\">\n",
       "      <th></th>\n",
       "      <th>Year</th>\n",
       "      <th>Station</th>\n",
       "      <th>Month</th>\n",
       "      <th>Rainfall</th>\n",
       "      <th>StationIndex</th>\n",
       "    </tr>\n",
       "  </thead>\n",
       "  <tbody>\n",
       "    <tr>\n",
       "      <th>3447</th>\n",
       "      <td>1982</td>\n",
       "      <td>Barisal</td>\n",
       "      <td>1</td>\n",
       "      <td>0</td>\n",
       "      <td>2</td>\n",
       "    </tr>\n",
       "    <tr>\n",
       "      <th>3448</th>\n",
       "      <td>1982</td>\n",
       "      <td>Barisal</td>\n",
       "      <td>2</td>\n",
       "      <td>57</td>\n",
       "      <td>2</td>\n",
       "    </tr>\n",
       "    <tr>\n",
       "      <th>3449</th>\n",
       "      <td>1982</td>\n",
       "      <td>Barisal</td>\n",
       "      <td>3</td>\n",
       "      <td>17</td>\n",
       "      <td>2</td>\n",
       "    </tr>\n",
       "    <tr>\n",
       "      <th>3450</th>\n",
       "      <td>1982</td>\n",
       "      <td>Barisal</td>\n",
       "      <td>4</td>\n",
       "      <td>178</td>\n",
       "      <td>2</td>\n",
       "    </tr>\n",
       "    <tr>\n",
       "      <th>3451</th>\n",
       "      <td>1982</td>\n",
       "      <td>Barisal</td>\n",
       "      <td>5</td>\n",
       "      <td>65</td>\n",
       "      <td>2</td>\n",
       "    </tr>\n",
       "    <tr>\n",
       "      <th>...</th>\n",
       "      <td>...</td>\n",
       "      <td>...</td>\n",
       "      <td>...</td>\n",
       "      <td>...</td>\n",
       "      <td>...</td>\n",
       "    </tr>\n",
       "    <tr>\n",
       "      <th>16750</th>\n",
       "      <td>2016</td>\n",
       "      <td>Teknaf</td>\n",
       "      <td>8</td>\n",
       "      <td>920</td>\n",
       "      <td>33</td>\n",
       "    </tr>\n",
       "    <tr>\n",
       "      <th>16751</th>\n",
       "      <td>2016</td>\n",
       "      <td>Teknaf</td>\n",
       "      <td>9</td>\n",
       "      <td>512</td>\n",
       "      <td>33</td>\n",
       "    </tr>\n",
       "    <tr>\n",
       "      <th>16752</th>\n",
       "      <td>2016</td>\n",
       "      <td>Teknaf</td>\n",
       "      <td>10</td>\n",
       "      <td>208</td>\n",
       "      <td>33</td>\n",
       "    </tr>\n",
       "    <tr>\n",
       "      <th>16753</th>\n",
       "      <td>2016</td>\n",
       "      <td>Teknaf</td>\n",
       "      <td>11</td>\n",
       "      <td>53</td>\n",
       "      <td>33</td>\n",
       "    </tr>\n",
       "    <tr>\n",
       "      <th>16754</th>\n",
       "      <td>2016</td>\n",
       "      <td>Teknaf</td>\n",
       "      <td>12</td>\n",
       "      <td>0</td>\n",
       "      <td>33</td>\n",
       "    </tr>\n",
       "  </tbody>\n",
       "</table>\n",
       "<p>13308 rows × 5 columns</p>\n",
       "</div>"
      ],
      "text/plain": [
       "       Year  Station  Month  Rainfall  StationIndex\n",
       "3447   1982  Barisal      1         0             2\n",
       "3448   1982  Barisal      2        57             2\n",
       "3449   1982  Barisal      3        17             2\n",
       "3450   1982  Barisal      4       178             2\n",
       "3451   1982  Barisal      5        65             2\n",
       "...     ...      ...    ...       ...           ...\n",
       "16750  2016   Teknaf      8       920            33\n",
       "16751  2016   Teknaf      9       512            33\n",
       "16752  2016   Teknaf     10       208            33\n",
       "16753  2016   Teknaf     11        53            33\n",
       "16754  2016   Teknaf     12         0            33\n",
       "\n",
       "[13308 rows x 5 columns]"
      ]
     },
     "execution_count": 22,
     "metadata": {},
     "output_type": "execute_result"
    }
   ],
   "source": [
    "filtered_df"
   ]
  },
  {
   "cell_type": "markdown",
   "metadata": {},
   "source": [
    "Group the data by 'Month' and calculate the mean rainfall for each month"
   ]
  },
  {
   "cell_type": "code",
   "execution_count": 23,
   "metadata": {},
   "outputs": [
    {
     "data": {
      "text/plain": [
       "Year\n",
       "1982    196.494253\n",
       "1983    236.729885\n",
       "1984    236.359195\n",
       "1985    187.758333\n",
       "1986    209.541667\n",
       "1987    223.825269\n",
       "1988    233.620968\n",
       "1989    179.712366\n",
       "1990    219.513441\n",
       "1991    235.838542\n",
       "1992    156.145833\n",
       "1993    226.388021\n",
       "1994    166.481771\n",
       "1995    201.395161\n",
       "1996    194.819892\n",
       "1997    196.491935\n",
       "1998    233.967742\n",
       "1999    229.677419\n",
       "2000    219.414141\n",
       "2001    209.694444\n",
       "2002    223.957071\n",
       "2003    190.379032\n",
       "2004    225.906250\n",
       "2005    209.616162\n",
       "2006    179.682292\n",
       "2007    233.994792\n",
       "2008    201.873737\n",
       "2009    188.752525\n",
       "2010    183.340909\n",
       "2011    211.686869\n",
       "2012    196.156566\n",
       "2013    195.921717\n",
       "2014    175.409091\n",
       "2015    237.651515\n",
       "2016    198.484375\n",
       "Name: Rainfall, dtype: float64"
      ]
     },
     "execution_count": 23,
     "metadata": {},
     "output_type": "execute_result"
    }
   ],
   "source": [
    "yearly_mean = filtered_df.groupby('Year')['Rainfall'].mean()\n",
    "yearly_mean"
   ]
  },
  {
   "cell_type": "markdown",
   "metadata": {},
   "source": [
    "Plot rainfall data"
   ]
  },
  {
   "cell_type": "code",
   "execution_count": 24,
   "metadata": {},
   "outputs": [
    {
     "data": {
      "text/plain": [
       "<Axes: xlabel='Year'>"
      ]
     },
     "execution_count": 24,
     "metadata": {},
     "output_type": "execute_result"
    },
    {
     "data": {
      "image/png": "[encoded data removed]",
      "text/plain": [
       "<Figure size 640x480 with 1 Axes>"
      ]
     },
     "metadata": {},
     "output_type": "display_data"
    }
   ],
   "source": [
    "yearly_mean.plot()"
   ]
  }
 ],
 "metadata": {
  "kernelspec": {
   "display_name": "base",
   "language": "python",
   "name": "python3"
  },
  "language_info": {
   "codemirror_mode": {
    "name": "ipython",
    "version": 3
   },
   "file_extension": ".py",
   "mimetype": "text/x-python",
   "name": "python",
   "nbconvert_exporter": "python",
   "pygments_lexer": "ipython3",
   "version": "3.11.5"
  }
 },
 "nbformat": 4,
 "nbformat_minor": 2
}
